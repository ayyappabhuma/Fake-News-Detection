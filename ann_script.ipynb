{
  "nbformat": 4,
  "nbformat_minor": 0,
  "metadata": {
    "colab": {
      "name": "IST700_project.ipynb",
      "provenance": [],
      "collapsed_sections": []
    },
    "kernelspec": {
      "name": "python3",
      "display_name": "Python 3"
    },
    "language_info": {
      "name": "python"
    }
  },
  "cells": [
    {
      "cell_type": "code",
      "source": [
        "from google.colab import drive\n",
        "drive.mount('/content/drive')\n",
        "\n",
        "import os\n",
        "os.chdir('/content/drive/MyDrive/IST700')"
      ],
      "metadata": {
        "colab": {
          "base_uri": "https://localhost:8080/"
        },
        "id": "iNro7eoSSRNO",
        "outputId": "af5df5e6-e86f-40c3-f5fa-a2e00ed0265c"
      },
      "execution_count": 2,
      "outputs": [
        {
          "output_type": "stream",
          "name": "stdout",
          "text": [
            "Mounted at /content/drive\n"
          ]
        }
      ]
    },
    {
      "cell_type": "code",
      "execution_count": 3,
      "metadata": {
        "id": "RgBPWo3rRgRc"
      },
      "outputs": [],
      "source": [
        "import pandas as pd\n",
        "import numpy as np\n",
        "from sklearn.utils import shuffle\n",
        "import nltk\n",
        "from nltk.corpus import stopwords\n",
        "import gensim\n",
        "from nltk import word_tokenize\n",
        "import tensorflow as tf"
      ]
    },
    {
      "cell_type": "code",
      "source": [
        "true_df = pd.read_csv(\"True.csv\")\n",
        "fake_df = pd.read_csv(\"Fake.csv\")"
      ],
      "metadata": {
        "id": "-oRlUZVtSinO"
      },
      "execution_count": 4,
      "outputs": []
    },
    {
      "cell_type": "code",
      "source": [
        "true_df.head\n",
        "fake_df.head"
      ],
      "metadata": {
        "colab": {
          "base_uri": "https://localhost:8080/"
        },
        "id": "5n5K8dbko_go",
        "outputId": "da906a1f-a728-4ab6-bc53-78565f04acd4"
      },
      "execution_count": 5,
      "outputs": [
        {
          "output_type": "execute_result",
          "data": {
            "text/plain": [
              "<bound method NDFrame.head of                                                    title  \\\n",
              "0       Donald Trump Sends Out Embarrassing New Year’...   \n",
              "1       Drunk Bragging Trump Staffer Started Russian ...   \n",
              "2       Sheriff David Clarke Becomes An Internet Joke...   \n",
              "3       Trump Is So Obsessed He Even Has Obama’s Name...   \n",
              "4       Pope Francis Just Called Out Donald Trump Dur...   \n",
              "...                                                  ...   \n",
              "23476  McPain: John McCain Furious That Iran Treated ...   \n",
              "23477  JUSTICE? Yahoo Settles E-mail Privacy Class-ac...   \n",
              "23478  Sunnistan: US and Allied ‘Safe Zone’ Plan to T...   \n",
              "23479  How to Blow $700 Million: Al Jazeera America F...   \n",
              "23480  10 U.S. Navy Sailors Held by Iranian Military ...   \n",
              "\n",
              "                                                    text      subject  \\\n",
              "0      Donald Trump just couldn t wish all Americans ...         News   \n",
              "1      House Intelligence Committee Chairman Devin Nu...         News   \n",
              "2      On Friday, it was revealed that former Milwauk...         News   \n",
              "3      On Christmas day, Donald Trump announced that ...         News   \n",
              "4      Pope Francis used his annual Christmas Day mes...         News   \n",
              "...                                                  ...          ...   \n",
              "23476  21st Century Wire says As 21WIRE reported earl...  Middle-east   \n",
              "23477  21st Century Wire says It s a familiar theme. ...  Middle-east   \n",
              "23478  Patrick Henningsen  21st Century WireRemember ...  Middle-east   \n",
              "23479  21st Century Wire says Al Jazeera America will...  Middle-east   \n",
              "23480  21st Century Wire says As 21WIRE predicted in ...  Middle-east   \n",
              "\n",
              "                    date  \n",
              "0      December 31, 2017  \n",
              "1      December 31, 2017  \n",
              "2      December 30, 2017  \n",
              "3      December 29, 2017  \n",
              "4      December 25, 2017  \n",
              "...                  ...  \n",
              "23476   January 16, 2016  \n",
              "23477   January 16, 2016  \n",
              "23478   January 15, 2016  \n",
              "23479   January 14, 2016  \n",
              "23480   January 12, 2016  \n",
              "\n",
              "[23481 rows x 4 columns]>"
            ]
          },
          "metadata": {},
          "execution_count": 5
        }
      ]
    },
    {
      "cell_type": "code",
      "source": [
        "print(\"true news shape:\", true_df.shape)\n",
        "print(\"fake news shape:\", fake_df.shape)"
      ],
      "metadata": {
        "colab": {
          "base_uri": "https://localhost:8080/"
        },
        "id": "VNFe6h0kWkQm",
        "outputId": "c85c44c0-7652-47c0-e5ca-337e03eaac59"
      },
      "execution_count": 6,
      "outputs": [
        {
          "output_type": "stream",
          "name": "stdout",
          "text": [
            "true news shape: (21417, 4)\n",
            "fake news shape: (23481, 4)\n"
          ]
        }
      ]
    },
    {
      "cell_type": "code",
      "source": [
        "true_df['true'] = 1\n",
        "fake_df['true'] = 0\n",
        "\n",
        "data = pd.concat([true_df, fake_df])"
      ],
      "metadata": {
        "id": "aO7XVy7ZXJWI"
      },
      "execution_count": 7,
      "outputs": []
    },
    {
      "cell_type": "code",
      "source": [
        "data = data.iloc[:,[0, -1]] # Removing other columns\n",
        "data = shuffle(data).reset_index(drop=True) # Shuffle\n",
        "\n",
        "data.head()"
      ],
      "metadata": {
        "colab": {
          "base_uri": "https://localhost:8080/",
          "height": 206
        },
        "id": "qhQDwzZZXqk7",
        "outputId": "b89f82ba-b86c-41ae-80c3-d7ba258651de"
      },
      "execution_count": 8,
      "outputs": [
        {
          "output_type": "execute_result",
          "data": {
            "text/plain": [
              "                                               title  true\n",
              "0  Philippines president says China agrees to wor...     1\n",
              "1   House Conservatives Planning To End Paul Ryan...     0\n",
              "2  Hell Comes to Frogtown: Alt Right and Triumph ...     0\n",
              "3  Texas House passes 'bathroom bill' targeting p...     1\n",
              "4   Retired Colonel BLASTS Trump’s ‘Amateur’ Dema...     0"
            ],
            "text/html": [
              "\n",
              "  <div id=\"df-eaa4522e-741d-4cff-8a8a-683fcae594e9\">\n",
              "    <div class=\"colab-df-container\">\n",
              "      <div>\n",
              "<style scoped>\n",
              "    .dataframe tbody tr th:only-of-type {\n",
              "        vertical-align: middle;\n",
              "    }\n",
              "\n",
              "    .dataframe tbody tr th {\n",
              "        vertical-align: top;\n",
              "    }\n",
              "\n",
              "    .dataframe thead th {\n",
              "        text-align: right;\n",
              "    }\n",
              "</style>\n",
              "<table border=\"1\" class=\"dataframe\">\n",
              "  <thead>\n",
              "    <tr style=\"text-align: right;\">\n",
              "      <th></th>\n",
              "      <th>title</th>\n",
              "      <th>true</th>\n",
              "    </tr>\n",
              "  </thead>\n",
              "  <tbody>\n",
              "    <tr>\n",
              "      <th>0</th>\n",
              "      <td>Philippines president says China agrees to wor...</td>\n",
              "      <td>1</td>\n",
              "    </tr>\n",
              "    <tr>\n",
              "      <th>1</th>\n",
              "      <td>House Conservatives Planning To End Paul Ryan...</td>\n",
              "      <td>0</td>\n",
              "    </tr>\n",
              "    <tr>\n",
              "      <th>2</th>\n",
              "      <td>Hell Comes to Frogtown: Alt Right and Triumph ...</td>\n",
              "      <td>0</td>\n",
              "    </tr>\n",
              "    <tr>\n",
              "      <th>3</th>\n",
              "      <td>Texas House passes 'bathroom bill' targeting p...</td>\n",
              "      <td>1</td>\n",
              "    </tr>\n",
              "    <tr>\n",
              "      <th>4</th>\n",
              "      <td>Retired Colonel BLASTS Trump’s ‘Amateur’ Dema...</td>\n",
              "      <td>0</td>\n",
              "    </tr>\n",
              "  </tbody>\n",
              "</table>\n",
              "</div>\n",
              "      <button class=\"colab-df-convert\" onclick=\"convertToInteractive('df-eaa4522e-741d-4cff-8a8a-683fcae594e9')\"\n",
              "              title=\"Convert this dataframe to an interactive table.\"\n",
              "              style=\"display:none;\">\n",
              "        \n",
              "  <svg xmlns=\"http://www.w3.org/2000/svg\" height=\"24px\"viewBox=\"0 0 24 24\"\n",
              "       width=\"24px\">\n",
              "    <path d=\"M0 0h24v24H0V0z\" fill=\"none\"/>\n",
              "    <path d=\"M18.56 5.44l.94 2.06.94-2.06 2.06-.94-2.06-.94-.94-2.06-.94 2.06-2.06.94zm-11 1L8.5 8.5l.94-2.06 2.06-.94-2.06-.94L8.5 2.5l-.94 2.06-2.06.94zm10 10l.94 2.06.94-2.06 2.06-.94-2.06-.94-.94-2.06-.94 2.06-2.06.94z\"/><path d=\"M17.41 7.96l-1.37-1.37c-.4-.4-.92-.59-1.43-.59-.52 0-1.04.2-1.43.59L10.3 9.45l-7.72 7.72c-.78.78-.78 2.05 0 2.83L4 21.41c.39.39.9.59 1.41.59.51 0 1.02-.2 1.41-.59l7.78-7.78 2.81-2.81c.8-.78.8-2.07 0-2.86zM5.41 20L4 18.59l7.72-7.72 1.47 1.35L5.41 20z\"/>\n",
              "  </svg>\n",
              "      </button>\n",
              "      \n",
              "  <style>\n",
              "    .colab-df-container {\n",
              "      display:flex;\n",
              "      flex-wrap:wrap;\n",
              "      gap: 12px;\n",
              "    }\n",
              "\n",
              "    .colab-df-convert {\n",
              "      background-color: #E8F0FE;\n",
              "      border: none;\n",
              "      border-radius: 50%;\n",
              "      cursor: pointer;\n",
              "      display: none;\n",
              "      fill: #1967D2;\n",
              "      height: 32px;\n",
              "      padding: 0 0 0 0;\n",
              "      width: 32px;\n",
              "    }\n",
              "\n",
              "    .colab-df-convert:hover {\n",
              "      background-color: #E2EBFA;\n",
              "      box-shadow: 0px 1px 2px rgba(60, 64, 67, 0.3), 0px 1px 3px 1px rgba(60, 64, 67, 0.15);\n",
              "      fill: #174EA6;\n",
              "    }\n",
              "\n",
              "    [theme=dark] .colab-df-convert {\n",
              "      background-color: #3B4455;\n",
              "      fill: #D2E3FC;\n",
              "    }\n",
              "\n",
              "    [theme=dark] .colab-df-convert:hover {\n",
              "      background-color: #434B5C;\n",
              "      box-shadow: 0px 1px 3px 1px rgba(0, 0, 0, 0.15);\n",
              "      filter: drop-shadow(0px 1px 2px rgba(0, 0, 0, 0.3));\n",
              "      fill: #FFFFFF;\n",
              "    }\n",
              "  </style>\n",
              "\n",
              "      <script>\n",
              "        const buttonEl =\n",
              "          document.querySelector('#df-eaa4522e-741d-4cff-8a8a-683fcae594e9 button.colab-df-convert');\n",
              "        buttonEl.style.display =\n",
              "          google.colab.kernel.accessAllowed ? 'block' : 'none';\n",
              "\n",
              "        async function convertToInteractive(key) {\n",
              "          const element = document.querySelector('#df-eaa4522e-741d-4cff-8a8a-683fcae594e9');\n",
              "          const dataTable =\n",
              "            await google.colab.kernel.invokeFunction('convertToInteractive',\n",
              "                                                     [key], {});\n",
              "          if (!dataTable) return;\n",
              "\n",
              "          const docLinkHtml = 'Like what you see? Visit the ' +\n",
              "            '<a target=\"_blank\" href=https://colab.research.google.com/notebooks/data_table.ipynb>data table notebook</a>'\n",
              "            + ' to learn more about interactive tables.';\n",
              "          element.innerHTML = '';\n",
              "          dataTable['output_type'] = 'display_data';\n",
              "          await google.colab.output.renderOutput(dataTable, element);\n",
              "          const docLink = document.createElement('div');\n",
              "          docLink.innerHTML = docLinkHtml;\n",
              "          element.appendChild(docLink);\n",
              "        }\n",
              "      </script>\n",
              "    </div>\n",
              "  </div>\n",
              "  "
            ]
          },
          "metadata": {},
          "execution_count": 8
        }
      ]
    },
    {
      "cell_type": "code",
      "source": [
        "nltk.download(\"stopwords\")\n",
        "stop_words = stopwords.words('english')\n",
        "stop_words.extend(['from', 'subject', 're', 'edu', 'use'])\n"
      ],
      "metadata": {
        "colab": {
          "base_uri": "https://localhost:8080/"
        },
        "id": "wnRDhpHZbGkl",
        "outputId": "1674f2bd-1d6e-4ac0-a4fe-c09fae6441e3"
      },
      "execution_count": 9,
      "outputs": [
        {
          "output_type": "stream",
          "name": "stdout",
          "text": [
            "[nltk_data] Downloading package stopwords to /root/nltk_data...\n",
            "[nltk_data]   Unzipping corpora/stopwords.zip.\n"
          ]
        }
      ]
    },
    {
      "cell_type": "code",
      "source": [
        "def preprocess(text):\n",
        "    result = \"\"\n",
        "    for token in gensim.utils.simple_preprocess(text):\n",
        "        if token not in gensim.parsing.preprocessing.STOPWORDS and len(token) > 3 and token not in stop_words:\n",
        "            result += \" \" + token\n",
        "    result.strip()        \n",
        "    return result"
      ],
      "metadata": {
        "id": "D-c7bV1bex92"
      },
      "execution_count": 10,
      "outputs": []
    },
    {
      "cell_type": "code",
      "source": [
        "data['clean'] = data['title'].apply(preprocess)"
      ],
      "metadata": {
        "id": "zALByfiCe0r5"
      },
      "execution_count": 11,
      "outputs": []
    },
    {
      "cell_type": "code",
      "source": [
        "data"
      ],
      "metadata": {
        "colab": {
          "base_uri": "https://localhost:8080/",
          "height": 423
        },
        "id": "O3eIoPJnfBPV",
        "outputId": "395c963f-ec0e-4c03-8094-7888c299583a"
      },
      "execution_count": 12,
      "outputs": [
        {
          "output_type": "execute_result",
          "data": {
            "text/plain": [
              "                                                   title  true  \\\n",
              "0      Philippines president says China agrees to wor...     1   \n",
              "1       House Conservatives Planning To End Paul Ryan...     0   \n",
              "2      Hell Comes to Frogtown: Alt Right and Triumph ...     0   \n",
              "3      Texas House passes 'bathroom bill' targeting p...     1   \n",
              "4       Retired Colonel BLASTS Trump’s ‘Amateur’ Dema...     0   \n",
              "...                                                  ...   ...   \n",
              "44893  CHARLIE DANIELS Rips Hollywood On Gun Control ...     0   \n",
              "44894  THIS ONE PICTURE Tells You Everything You Need...     0   \n",
              "44895   WATCH: Guiliani Claims Trump Gave Up Birtheri...     0   \n",
              "44896  U.S. concerned Iraqi Kurdish referendum will d...     1   \n",
              "44897  EU's Tusk proposes opening internal preparatio...     1   \n",
              "\n",
              "                                                   clean  \n",
              "0       philippines president says china agrees work ...  \n",
              "1       house conservatives planning paul ryan stab s...  \n",
              "2        hell comes frogtown right triumph transhumanism  \n",
              "3       texas house passes bathroom targeting public ...  \n",
              "4       retired colonel blasts trump amateur demand n...  \n",
              "...                                                  ...  \n",
              "44893   charlie daniels rips hollywood control effort...  \n",
              "44894    picture tells need know muslim refugee invasion  \n",
              "44895   watch guiliani claims trump gave birtherism c...  \n",
              "44896   concerned iraqi kurdish referendum distract s...  \n",
              "44897   tusk proposes opening internal preparations p...  \n",
              "\n",
              "[44898 rows x 3 columns]"
            ],
            "text/html": [
              "\n",
              "  <div id=\"df-a76739f2-0f03-40e8-bddd-9a2c81474950\">\n",
              "    <div class=\"colab-df-container\">\n",
              "      <div>\n",
              "<style scoped>\n",
              "    .dataframe tbody tr th:only-of-type {\n",
              "        vertical-align: middle;\n",
              "    }\n",
              "\n",
              "    .dataframe tbody tr th {\n",
              "        vertical-align: top;\n",
              "    }\n",
              "\n",
              "    .dataframe thead th {\n",
              "        text-align: right;\n",
              "    }\n",
              "</style>\n",
              "<table border=\"1\" class=\"dataframe\">\n",
              "  <thead>\n",
              "    <tr style=\"text-align: right;\">\n",
              "      <th></th>\n",
              "      <th>title</th>\n",
              "      <th>true</th>\n",
              "      <th>clean</th>\n",
              "    </tr>\n",
              "  </thead>\n",
              "  <tbody>\n",
              "    <tr>\n",
              "      <th>0</th>\n",
              "      <td>Philippines president says China agrees to wor...</td>\n",
              "      <td>1</td>\n",
              "      <td>philippines president says china agrees work ...</td>\n",
              "    </tr>\n",
              "    <tr>\n",
              "      <th>1</th>\n",
              "      <td>House Conservatives Planning To End Paul Ryan...</td>\n",
              "      <td>0</td>\n",
              "      <td>house conservatives planning paul ryan stab s...</td>\n",
              "    </tr>\n",
              "    <tr>\n",
              "      <th>2</th>\n",
              "      <td>Hell Comes to Frogtown: Alt Right and Triumph ...</td>\n",
              "      <td>0</td>\n",
              "      <td>hell comes frogtown right triumph transhumanism</td>\n",
              "    </tr>\n",
              "    <tr>\n",
              "      <th>3</th>\n",
              "      <td>Texas House passes 'bathroom bill' targeting p...</td>\n",
              "      <td>1</td>\n",
              "      <td>texas house passes bathroom targeting public ...</td>\n",
              "    </tr>\n",
              "    <tr>\n",
              "      <th>4</th>\n",
              "      <td>Retired Colonel BLASTS Trump’s ‘Amateur’ Dema...</td>\n",
              "      <td>0</td>\n",
              "      <td>retired colonel blasts trump amateur demand n...</td>\n",
              "    </tr>\n",
              "    <tr>\n",
              "      <th>...</th>\n",
              "      <td>...</td>\n",
              "      <td>...</td>\n",
              "      <td>...</td>\n",
              "    </tr>\n",
              "    <tr>\n",
              "      <th>44893</th>\n",
              "      <td>CHARLIE DANIELS Rips Hollywood On Gun Control ...</td>\n",
              "      <td>0</td>\n",
              "      <td>charlie daniels rips hollywood control effort...</td>\n",
              "    </tr>\n",
              "    <tr>\n",
              "      <th>44894</th>\n",
              "      <td>THIS ONE PICTURE Tells You Everything You Need...</td>\n",
              "      <td>0</td>\n",
              "      <td>picture tells need know muslim refugee invasion</td>\n",
              "    </tr>\n",
              "    <tr>\n",
              "      <th>44895</th>\n",
              "      <td>WATCH: Guiliani Claims Trump Gave Up Birtheri...</td>\n",
              "      <td>0</td>\n",
              "      <td>watch guiliani claims trump gave birtherism c...</td>\n",
              "    </tr>\n",
              "    <tr>\n",
              "      <th>44896</th>\n",
              "      <td>U.S. concerned Iraqi Kurdish referendum will d...</td>\n",
              "      <td>1</td>\n",
              "      <td>concerned iraqi kurdish referendum distract s...</td>\n",
              "    </tr>\n",
              "    <tr>\n",
              "      <th>44897</th>\n",
              "      <td>EU's Tusk proposes opening internal preparatio...</td>\n",
              "      <td>1</td>\n",
              "      <td>tusk proposes opening internal preparations p...</td>\n",
              "    </tr>\n",
              "  </tbody>\n",
              "</table>\n",
              "<p>44898 rows × 3 columns</p>\n",
              "</div>\n",
              "      <button class=\"colab-df-convert\" onclick=\"convertToInteractive('df-a76739f2-0f03-40e8-bddd-9a2c81474950')\"\n",
              "              title=\"Convert this dataframe to an interactive table.\"\n",
              "              style=\"display:none;\">\n",
              "        \n",
              "  <svg xmlns=\"http://www.w3.org/2000/svg\" height=\"24px\"viewBox=\"0 0 24 24\"\n",
              "       width=\"24px\">\n",
              "    <path d=\"M0 0h24v24H0V0z\" fill=\"none\"/>\n",
              "    <path d=\"M18.56 5.44l.94 2.06.94-2.06 2.06-.94-2.06-.94-.94-2.06-.94 2.06-2.06.94zm-11 1L8.5 8.5l.94-2.06 2.06-.94-2.06-.94L8.5 2.5l-.94 2.06-2.06.94zm10 10l.94 2.06.94-2.06 2.06-.94-2.06-.94-.94-2.06-.94 2.06-2.06.94z\"/><path d=\"M17.41 7.96l-1.37-1.37c-.4-.4-.92-.59-1.43-.59-.52 0-1.04.2-1.43.59L10.3 9.45l-7.72 7.72c-.78.78-.78 2.05 0 2.83L4 21.41c.39.39.9.59 1.41.59.51 0 1.02-.2 1.41-.59l7.78-7.78 2.81-2.81c.8-.78.8-2.07 0-2.86zM5.41 20L4 18.59l7.72-7.72 1.47 1.35L5.41 20z\"/>\n",
              "  </svg>\n",
              "      </button>\n",
              "      \n",
              "  <style>\n",
              "    .colab-df-container {\n",
              "      display:flex;\n",
              "      flex-wrap:wrap;\n",
              "      gap: 12px;\n",
              "    }\n",
              "\n",
              "    .colab-df-convert {\n",
              "      background-color: #E8F0FE;\n",
              "      border: none;\n",
              "      border-radius: 50%;\n",
              "      cursor: pointer;\n",
              "      display: none;\n",
              "      fill: #1967D2;\n",
              "      height: 32px;\n",
              "      padding: 0 0 0 0;\n",
              "      width: 32px;\n",
              "    }\n",
              "\n",
              "    .colab-df-convert:hover {\n",
              "      background-color: #E2EBFA;\n",
              "      box-shadow: 0px 1px 2px rgba(60, 64, 67, 0.3), 0px 1px 3px 1px rgba(60, 64, 67, 0.15);\n",
              "      fill: #174EA6;\n",
              "    }\n",
              "\n",
              "    [theme=dark] .colab-df-convert {\n",
              "      background-color: #3B4455;\n",
              "      fill: #D2E3FC;\n",
              "    }\n",
              "\n",
              "    [theme=dark] .colab-df-convert:hover {\n",
              "      background-color: #434B5C;\n",
              "      box-shadow: 0px 1px 3px 1px rgba(0, 0, 0, 0.15);\n",
              "      filter: drop-shadow(0px 1px 2px rgba(0, 0, 0, 0.3));\n",
              "      fill: #FFFFFF;\n",
              "    }\n",
              "  </style>\n",
              "\n",
              "      <script>\n",
              "        const buttonEl =\n",
              "          document.querySelector('#df-a76739f2-0f03-40e8-bddd-9a2c81474950 button.colab-df-convert');\n",
              "        buttonEl.style.display =\n",
              "          google.colab.kernel.accessAllowed ? 'block' : 'none';\n",
              "\n",
              "        async function convertToInteractive(key) {\n",
              "          const element = document.querySelector('#df-a76739f2-0f03-40e8-bddd-9a2c81474950');\n",
              "          const dataTable =\n",
              "            await google.colab.kernel.invokeFunction('convertToInteractive',\n",
              "                                                     [key], {});\n",
              "          if (!dataTable) return;\n",
              "\n",
              "          const docLinkHtml = 'Like what you see? Visit the ' +\n",
              "            '<a target=\"_blank\" href=https://colab.research.google.com/notebooks/data_table.ipynb>data table notebook</a>'\n",
              "            + ' to learn more about interactive tables.';\n",
              "          element.innerHTML = '';\n",
              "          dataTable['output_type'] = 'display_data';\n",
              "          await google.colab.output.renderOutput(dataTable, element);\n",
              "          const docLink = document.createElement('div');\n",
              "          docLink.innerHTML = docLinkHtml;\n",
              "          element.appendChild(docLink);\n",
              "        }\n",
              "      </script>\n",
              "    </div>\n",
              "  </div>\n",
              "  "
            ]
          },
          "metadata": {},
          "execution_count": 12
        }
      ]
    },
    {
      "cell_type": "code",
      "source": [
        "titles = [text for text in data.title]\n",
        "\n",
        "max_len = 0\n",
        "titles_len = []\n",
        "for title in titles:\n",
        "    titles_len.append(len(title.split()))\n",
        "    max_len = max(len(title.split()), max_len)\n",
        "\n",
        "print('Max length of the titles:', max_len)\n",
        "print('Mean length of the titles:', np.mean(titles_len))"
      ],
      "metadata": {
        "colab": {
          "base_uri": "https://localhost:8080/"
        },
        "id": "iGVAMwnVi4Cb",
        "outputId": "949ac5f9-333f-4218-9ea0-8f500e4b5a7e"
      },
      "execution_count": 13,
      "outputs": [
        {
          "output_type": "stream",
          "name": "stdout",
          "text": [
            "Max length of the titles: 42\n",
            "Mean length of the titles: 12.453472315025168\n"
          ]
        }
      ]
    },
    {
      "cell_type": "code",
      "source": [
        "train_val_data = data.sample(frac = 0.8)\n",
        "test_data = data.drop(train_val_data.index)\n",
        "\n",
        "train_data = train_val_data.sample(frac = 0.8)\n",
        "val_data = train_val_data.drop(train_data.index)\n",
        "\n",
        "# Reset Index\n",
        "train_data = train_data.reset_index(drop=True)\n",
        "val_data = val_data.reset_index(drop=True)\n",
        "test_data = test_data.reset_index(drop=True)\n",
        "\n",
        "print('trainset size:', train_data.shape)\n",
        "print('valset size:', val_data.shape)\n",
        "print('testset size:', test_data.shape)"
      ],
      "metadata": {
        "colab": {
          "base_uri": "https://localhost:8080/"
        },
        "id": "iLCn_VUOYGzn",
        "outputId": "ae3b4ada-86ce-49d6-ebf4-ce8c72a4ed33"
      },
      "execution_count": 14,
      "outputs": [
        {
          "output_type": "stream",
          "name": "stdout",
          "text": [
            "trainset size: (28734, 3)\n",
            "valset size: (7184, 3)\n",
            "testset size: (8980, 3)\n"
          ]
        }
      ]
    },
    {
      "cell_type": "code",
      "source": [
        "list_of_words = []\n",
        "for i in data.clean:\n",
        "    for j in i.split():\n",
        "        list_of_words.append(j)\n",
        "\n",
        "total_words = len(list(set(list_of_words)))\n",
        "total_words"
      ],
      "metadata": {
        "colab": {
          "base_uri": "https://localhost:8080/"
        },
        "id": "S1IDs2pHm3x-",
        "outputId": "3f9c4233-edf0-4b32-add8-3c69d99bf28c"
      },
      "execution_count": 15,
      "outputs": [
        {
          "output_type": "execute_result",
          "data": {
            "text/plain": [
              "19175"
            ]
          },
          "metadata": {},
          "execution_count": 15
        }
      ]
    },
    {
      "cell_type": "code",
      "source": [
        "from tensorflow.keras.preprocessing.text import one_hot, Tokenizer\n",
        "\n",
        "# Creating A Tokenizer To Tokenize The Words And Create Sequences Of Tokenized Words\n",
        "tokenizer = Tokenizer(num_words = total_words)\n",
        "tokenizer.fit_on_texts(data['clean'])\n",
        "\n",
        "train_sequences = tokenizer.texts_to_sequences(train_data['clean'])\n",
        "val_sequences = tokenizer.texts_to_sequences(val_data['clean'])\n",
        "test_sequences = tokenizer.texts_to_sequences(test_data['clean'])"
      ],
      "metadata": {
        "id": "Clo2-ONjZ0o6"
      },
      "execution_count": 16,
      "outputs": []
    },
    {
      "cell_type": "code",
      "source": [
        "word_index = tokenizer.word_index\n",
        "index_word = {v: k for k, v in word_index.items()}\n",
        "\n",
        "len(word_index)"
      ],
      "metadata": {
        "colab": {
          "base_uri": "https://localhost:8080/"
        },
        "id": "wRjOtKyrHS2I",
        "outputId": "4ff33ea2-97cf-446e-d1e5-3fc4a790ec3d"
      },
      "execution_count": 17,
      "outputs": [
        {
          "output_type": "execute_result",
          "data": {
            "text/plain": [
              "19174"
            ]
          },
          "metadata": {},
          "execution_count": 17
        }
      ]
    },
    {
      "cell_type": "code",
      "source": [
        "from tensorflow.keras.preprocessing.sequence import pad_sequences\n",
        "\n",
        "# Adding Padding\n",
        "padded_train = pad_sequences(train_sequences,maxlen = 42, padding = 'post', truncating = 'post')\n",
        "padded_val = pad_sequences(val_sequences,maxlen = 42, padding = 'post', truncating = 'post')\n",
        "padded_test = pad_sequences(test_sequences,maxlen = 42, padding = 'post', truncating = 'post')"
      ],
      "metadata": {
        "id": "ocIecRHrsWT8"
      },
      "execution_count": 18,
      "outputs": []
    },
    {
      "cell_type": "code",
      "source": [
        "from tensorflow.keras.models import Sequential\n",
        "from tensorflow.keras.layers import Dense, Flatten, Embedding, Input, LSTM, Conv1D, MaxPool1D, Bidirectional, Dropout, BatchNormalization\n",
        "\n",
        "## Creating model Using LSTM\n",
        "embedding_vector_features=40\n",
        "model1=Sequential()\n",
        "model1.add(Embedding(total_words + 1,embedding_vector_features,input_length=42))\n",
        "model1.add(Dropout(0.3))\n",
        "model1.add(LSTM(100, return_sequences=True))\n",
        "model1.add(Dropout(0.3))\n",
        "model1.add(LSTM(100))\n",
        "model1.add(Dropout(0.3))\n",
        "model1.add(Dense(1,activation='sigmoid'))\n",
        "model1.compile(loss='binary_crossentropy',optimizer='adam',metrics=['accuracy'])\n",
        "print(model1.summary())"
      ],
      "metadata": {
        "colab": {
          "base_uri": "https://localhost:8080/"
        },
        "id": "bhoBgqGfvcL1",
        "outputId": "5048ae6b-edaf-4df5-aba4-aa8ebc4a7bba"
      },
      "execution_count": 19,
      "outputs": [
        {
          "output_type": "stream",
          "name": "stdout",
          "text": [
            "Model: \"sequential\"\n",
            "_________________________________________________________________\n",
            " Layer (type)                Output Shape              Param #   \n",
            "=================================================================\n",
            " embedding (Embedding)       (None, 42, 40)            767040    \n",
            "                                                                 \n",
            " dropout (Dropout)           (None, 42, 40)            0         \n",
            "                                                                 \n",
            " lstm (LSTM)                 (None, 42, 100)           56400     \n",
            "                                                                 \n",
            " dropout_1 (Dropout)         (None, 42, 100)           0         \n",
            "                                                                 \n",
            " lstm_1 (LSTM)               (None, 100)               80400     \n",
            "                                                                 \n",
            " dropout_2 (Dropout)         (None, 100)               0         \n",
            "                                                                 \n",
            " dense (Dense)               (None, 1)                 101       \n",
            "                                                                 \n",
            "=================================================================\n",
            "Total params: 903,941\n",
            "Trainable params: 903,941\n",
            "Non-trainable params: 0\n",
            "_________________________________________________________________\n",
            "None\n"
          ]
        }
      ]
    },
    {
      "cell_type": "code",
      "source": [
        "tf.keras.backend.clear_session()"
      ],
      "metadata": {
        "id": "5x7S6Z7t1H-w"
      },
      "execution_count": 91,
      "outputs": []
    },
    {
      "cell_type": "code",
      "source": [
        "y_train = np.asarray(train_data['true'])\n",
        "y_val = np.asarray(val_data['true'])\n",
        "\n",
        "# Training the model\n",
        "model1.fit(padded_train, y_train, batch_size = 64, validation_data=(padded_val, y_val), epochs = 3)"
      ],
      "metadata": {
        "colab": {
          "base_uri": "https://localhost:8080/"
        },
        "id": "4FPlG_Xfx2qw",
        "outputId": "f694410e-f1b0-4267-cb75-d81372d73dc1"
      },
      "execution_count": 28,
      "outputs": [
        {
          "output_type": "stream",
          "name": "stdout",
          "text": [
            "Epoch 1/3\n",
            "449/449 [==============================] - 60s 124ms/step - loss: 0.3478 - accuracy: 0.8052 - val_loss: 0.1653 - val_accuracy: 0.9376\n",
            "Epoch 2/3\n",
            "449/449 [==============================] - 55s 123ms/step - loss: 0.1244 - accuracy: 0.9558 - val_loss: 0.1581 - val_accuracy: 0.9428\n",
            "Epoch 3/3\n",
            "449/449 [==============================] - 55s 122ms/step - loss: 0.0831 - accuracy: 0.9718 - val_loss: 0.1841 - val_accuracy: 0.9420\n"
          ]
        },
        {
          "output_type": "execute_result",
          "data": {
            "text/plain": [
              "<keras.callbacks.History at 0x7f0bc2a67610>"
            ]
          },
          "metadata": {},
          "execution_count": 28
        }
      ]
    },
    {
      "cell_type": "code",
      "source": [
        "y_test = np.asarray(test_data[\"true\"])\n",
        "\n",
        "model1.evaluate(padded_test, y_test)"
      ],
      "metadata": {
        "colab": {
          "base_uri": "https://localhost:8080/"
        },
        "id": "IhVLc07SzZFw",
        "outputId": "bfbd8ea5-6056-41b4-b18c-7b0097a5ff33"
      },
      "execution_count": 29,
      "outputs": [
        {
          "output_type": "stream",
          "name": "stdout",
          "text": [
            "281/281 [==============================] - 6s 21ms/step - loss: 0.1881 - accuracy: 0.9411\n"
          ]
        },
        {
          "output_type": "execute_result",
          "data": {
            "text/plain": [
              "[0.18813155591487885, 0.9410912990570068]"
            ]
          },
          "metadata": {},
          "execution_count": 29
        }
      ]
    },
    {
      "cell_type": "code",
      "source": [
        "!wget http://nlp.stanford.edu/data/glove.6B.zip"
      ],
      "metadata": {
        "colab": {
          "base_uri": "https://localhost:8080/"
        },
        "id": "xTfGA4Gg2lhq",
        "outputId": "250bf6a9-1122-4393-b644-88786387310b"
      },
      "execution_count": 39,
      "outputs": [
        {
          "output_type": "stream",
          "name": "stdout",
          "text": [
            "--2022-05-03 19:49:18--  http://nlp.stanford.edu/data/glove.6B.zip\n",
            "Resolving nlp.stanford.edu (nlp.stanford.edu)... 171.64.67.140\n",
            "Connecting to nlp.stanford.edu (nlp.stanford.edu)|171.64.67.140|:80... connected.\n",
            "HTTP request sent, awaiting response... 302 Found\n",
            "Location: https://nlp.stanford.edu/data/glove.6B.zip [following]\n",
            "--2022-05-03 19:49:18--  https://nlp.stanford.edu/data/glove.6B.zip\n",
            "Connecting to nlp.stanford.edu (nlp.stanford.edu)|171.64.67.140|:443... connected.\n",
            "HTTP request sent, awaiting response... 301 Moved Permanently\n",
            "Location: http://downloads.cs.stanford.edu/nlp/data/glove.6B.zip [following]\n",
            "--2022-05-03 19:49:19--  http://downloads.cs.stanford.edu/nlp/data/glove.6B.zip\n",
            "Resolving downloads.cs.stanford.edu (downloads.cs.stanford.edu)... 171.64.64.22\n",
            "Connecting to downloads.cs.stanford.edu (downloads.cs.stanford.edu)|171.64.64.22|:80... connected.\n",
            "HTTP request sent, awaiting response... 200 OK\n",
            "Length: 862182613 (822M) [application/zip]\n",
            "Saving to: ‘glove.6B.zip.1’\n",
            "\n",
            "glove.6B.zip.1      100%[===================>] 822.24M  5.18MB/s    in 2m 40s  \n",
            "\n",
            "2022-05-03 19:51:59 (5.14 MB/s) - ‘glove.6B.zip.1’ saved [862182613/862182613]\n",
            "\n"
          ]
        }
      ]
    },
    {
      "cell_type": "code",
      "source": [
        "!unzip glove.6B.zip"
      ],
      "metadata": {
        "colab": {
          "base_uri": "https://localhost:8080/"
        },
        "id": "EGc24Ryg2yCt",
        "outputId": "702e6e3b-feb3-43a2-9c74-07f6dcf89278"
      },
      "execution_count": 40,
      "outputs": [
        {
          "output_type": "stream",
          "name": "stdout",
          "text": [
            "Archive:  glove.6B.zip\n",
            "replace glove.6B.50d.txt? [y]es, [n]o, [A]ll, [N]one, [r]ename: "
          ]
        }
      ]
    },
    {
      "cell_type": "code",
      "source": [
        "import os\n",
        "embeddings_index = {}\n",
        "f = open('glove.6B.100d.txt')\n",
        "for line in f:\n",
        "    values = line.split()\n",
        "    word = values[0]\n",
        "    coefs = np.asarray(values[1:], dtype='float32')\n",
        "    embeddings_index[word] = coefs\n",
        "f.close()\n",
        "\n",
        "print('Found %s word vectors.' % len(embeddings_index))"
      ],
      "metadata": {
        "colab": {
          "base_uri": "https://localhost:8080/"
        },
        "id": "RlhvSHc35mZg",
        "outputId": "07938fdc-adb3-4487-a6ac-78a912d0063f"
      },
      "execution_count": 24,
      "outputs": [
        {
          "output_type": "stream",
          "name": "stdout",
          "text": [
            "Found 400000 word vectors.\n"
          ]
        }
      ]
    },
    {
      "cell_type": "code",
      "source": [
        "num_tokens = total_words + 1\n",
        "embedding_dim3 = 100\n",
        "hits = 0\n",
        "misses = 0\n",
        "\n",
        "# Prepare embedding matrix\n",
        "embedding_matrix = np.zeros((num_tokens, embedding_dim3))\n",
        "for word, i in word_index.items():\n",
        "    embedding_vector = embeddings_index.get(word)\n",
        "    if embedding_vector is not None:\n",
        "        # Words not found in embedding index will be all-zeros.\n",
        "        # This includes the representation for \"padding\" and \"OOV\"\n",
        "        embedding_matrix[i] = embedding_vector\n",
        "        hits += 1\n",
        "    else:\n",
        "        misses += 1\n",
        "print(\"Converted %d words (%d misses)\" % (hits, misses))"
      ],
      "metadata": {
        "colab": {
          "base_uri": "https://localhost:8080/"
        },
        "id": "OqAor6qh54jf",
        "outputId": "09a628c2-12f8-4998-9a18-5085a10f994c"
      },
      "execution_count": 25,
      "outputs": [
        {
          "output_type": "stream",
          "name": "stdout",
          "text": [
            "Converted 18544 words (630 misses)\n"
          ]
        }
      ]
    },
    {
      "cell_type": "code",
      "source": [
        "model2=Sequential()\n",
        "model2.add(Embedding(total_words + 1, 100, input_length=42, weights = [embedding_matrix], trainable = False))\n",
        "model2.add(Dropout(0.3))\n",
        "model2.add(LSTM(100))\n",
        "model2.add(Dropout(0.3))\n",
        "model2.add(Dense(1,activation='sigmoid'))\n",
        "model2.compile(loss='binary_crossentropy',optimizer='adam',metrics=['accuracy'])\n",
        "print(model2.summary())"
      ],
      "metadata": {
        "colab": {
          "base_uri": "https://localhost:8080/"
        },
        "id": "AyyR4eEjJhRQ",
        "outputId": "4c188a2b-12b0-4a42-ef91-76582bba21d0"
      },
      "execution_count": 26,
      "outputs": [
        {
          "output_type": "stream",
          "name": "stdout",
          "text": [
            "Model: \"sequential_3\"\n",
            "_________________________________________________________________\n",
            " Layer (type)                Output Shape              Param #   \n",
            "=================================================================\n",
            " embedding_2 (Embedding)     (None, 42, 100)           1917600   \n",
            "                                                                 \n",
            " dropout_4 (Dropout)         (None, 42, 100)           0         \n",
            "                                                                 \n",
            " lstm_3 (LSTM)               (None, 100)               80400     \n",
            "                                                                 \n",
            " dropout_5 (Dropout)         (None, 100)               0         \n",
            "                                                                 \n",
            " dense_2 (Dense)             (None, 1)                 101       \n",
            "                                                                 \n",
            "=================================================================\n",
            "Total params: 1,998,101\n",
            "Trainable params: 80,501\n",
            "Non-trainable params: 1,917,600\n",
            "_________________________________________________________________\n",
            "None\n"
          ]
        }
      ]
    },
    {
      "cell_type": "code",
      "source": [
        "model2.fit(padded_train, y_train, batch_size = 64, validation_data=(padded_val, y_val), epochs = 3)"
      ],
      "metadata": {
        "colab": {
          "base_uri": "https://localhost:8080/"
        },
        "id": "OH73yQOXqpwg",
        "outputId": "86ca899b-d897-471c-c85c-c0e107457170"
      },
      "execution_count": 30,
      "outputs": [
        {
          "output_type": "stream",
          "name": "stdout",
          "text": [
            "Epoch 1/3\n",
            "449/449 [==============================] - 27s 56ms/step - loss: 0.3096 - accuracy: 0.8635 - val_loss: 0.2162 - val_accuracy: 0.9090\n",
            "Epoch 2/3\n",
            "449/449 [==============================] - 25s 56ms/step - loss: 0.2363 - accuracy: 0.9012 - val_loss: 0.1939 - val_accuracy: 0.9190\n",
            "Epoch 3/3\n",
            "449/449 [==============================] - 25s 55ms/step - loss: 0.2082 - accuracy: 0.9144 - val_loss: 0.1775 - val_accuracy: 0.9229\n"
          ]
        },
        {
          "output_type": "execute_result",
          "data": {
            "text/plain": [
              "<keras.callbacks.History at 0x7f0bbfbdb210>"
            ]
          },
          "metadata": {},
          "execution_count": 30
        }
      ]
    },
    {
      "cell_type": "code",
      "source": [
        "model2.evaluate(padded_test, y_test)"
      ],
      "metadata": {
        "colab": {
          "base_uri": "https://localhost:8080/"
        },
        "id": "yd7l6OxIrUqw",
        "outputId": "89bb915c-9cae-4b5f-fc6e-da2fb5eaa823"
      },
      "execution_count": 31,
      "outputs": [
        {
          "output_type": "stream",
          "name": "stdout",
          "text": [
            "281/281 [==============================] - 3s 12ms/step - loss: 0.1747 - accuracy: 0.9304\n"
          ]
        },
        {
          "output_type": "execute_result",
          "data": {
            "text/plain": [
              "[0.17466209828853607, 0.9304009079933167]"
            ]
          },
          "metadata": {},
          "execution_count": 31
        }
      ]
    },
    {
      "cell_type": "code",
      "source": [
        "from keras.layers import Layer\n",
        "import keras.backend as K"
      ],
      "metadata": {
        "id": "yBI9KrzRuyP8"
      },
      "execution_count": 21,
      "outputs": []
    },
    {
      "cell_type": "code",
      "source": [
        "class attention(Layer):\n",
        "    def __init__(self, return_sequences=True):\n",
        "        self.return_sequences = return_sequences\n",
        "\n",
        "        super(attention,self).__init__()\n",
        "\n",
        "    def build(self, input_shape):\n",
        "        self.W=self.add_weight(name=\"att_weight\", shape=(input_shape[-1],1),\n",
        "                               initializer=\"normal\")\n",
        "        self.b=self.add_weight(name=\"att_bias\", shape=(input_shape[1],1),\n",
        "                               initializer=\"normal\")\n",
        "        super(attention,self).build(input_shape)\n",
        "\n",
        "    def call(self, x):\n",
        "        e = K.tanh(K.dot(x,self.W)+self.b)\n",
        "        a = K.softmax(e, axis=1)\n",
        "        output = x*a\n",
        "        if self.return_sequences:\n",
        "\n",
        "            return output\n",
        "        return K.sum(output, axis=1)"
      ],
      "metadata": {
        "id": "WKtBJi-3t8kv"
      },
      "execution_count": 22,
      "outputs": []
    },
    {
      "cell_type": "code",
      "source": [
        "tf.keras.backend.clear_session()"
      ],
      "metadata": {
        "id": "PkqfZGIY1825"
      },
      "execution_count": 131,
      "outputs": []
    },
    {
      "cell_type": "code",
      "source": [
        "model3 = Sequential()\n",
        "model3.add(Embedding(total_words + 1, 40, input_length=42))\n",
        "model3.add(Bidirectional(LSTM(100, return_sequences=True)))\n",
        "model3.add(attention()) # receive 3D and output 3D\n",
        "model3.add(Dropout(0.5))\n",
        "model3.add(Dense(1, activation='sigmoid'))\n",
        "model3.compile(loss='binary_crossentropy', optimizer='adam', metrics=['accuracy']) \n",
        "model3.summary()"
      ],
      "metadata": {
        "colab": {
          "base_uri": "https://localhost:8080/"
        },
        "id": "_0DTafKtvSGE",
        "outputId": "bce7d4c2-0ae7-4967-b13c-82fe6f7332c3"
      },
      "execution_count": 32,
      "outputs": [
        {
          "output_type": "stream",
          "name": "stdout",
          "text": [
            "Model: \"sequential_4\"\n",
            "_________________________________________________________________\n",
            " Layer (type)                Output Shape              Param #   \n",
            "=================================================================\n",
            " embedding_3 (Embedding)     (None, 42, 40)            767040    \n",
            "                                                                 \n",
            " bidirectional_1 (Bidirectio  (None, 42, 200)          112800    \n",
            " nal)                                                            \n",
            "                                                                 \n",
            " attention_1 (attention)     (None, 42, 200)           242       \n",
            "                                                                 \n",
            " dropout_6 (Dropout)         (None, 42, 200)           0         \n",
            "                                                                 \n",
            " dense_3 (Dense)             (None, 42, 1)             201       \n",
            "                                                                 \n",
            "=================================================================\n",
            "Total params: 880,283\n",
            "Trainable params: 880,283\n",
            "Non-trainable params: 0\n",
            "_________________________________________________________________\n"
          ]
        }
      ]
    },
    {
      "cell_type": "code",
      "source": [
        "y_train = np.asarray(y_train).astype('float32').reshape((-1,1))\n",
        "y_val = np.asarray(y_val).astype('float32').reshape((-1,1))\n",
        "y_test = np.asarray(y_test).astype('float32').reshape((-1,1))"
      ],
      "metadata": {
        "id": "lW9EWs702ZfG"
      },
      "execution_count": 33,
      "outputs": []
    },
    {
      "cell_type": "code",
      "source": [
        "tf.config.run_functions_eagerly(True)"
      ],
      "metadata": {
        "id": "EuFl8Qam3SB0"
      },
      "execution_count": 117,
      "outputs": []
    },
    {
      "cell_type": "code",
      "source": [
        "model3.fit(padded_train, y_train, batch_size = 64, validation_data=(padded_val, y_val), epochs = 10)"
      ],
      "metadata": {
        "colab": {
          "base_uri": "https://localhost:8080/"
        },
        "id": "usqFz6h12P_d",
        "outputId": "907a100e-c697-4670-c9af-d64522b1e414"
      },
      "execution_count": 34,
      "outputs": [
        {
          "output_type": "stream",
          "name": "stdout",
          "text": [
            "Epoch 1/10\n",
            "449/449 [==============================] - 52s 106ms/step - loss: 0.5368 - accuracy: 0.7975 - val_loss: 0.3925 - val_accuracy: 0.8992\n",
            "Epoch 2/10\n",
            "449/449 [==============================] - 46s 102ms/step - loss: 0.3132 - accuracy: 0.9204 - val_loss: 0.2926 - val_accuracy: 0.9076\n",
            "Epoch 3/10\n",
            "449/449 [==============================] - 46s 102ms/step - loss: 0.2124 - accuracy: 0.9461 - val_loss: 0.2407 - val_accuracy: 0.9238\n",
            "Epoch 4/10\n",
            "449/449 [==============================] - 46s 102ms/step - loss: 0.1550 - accuracy: 0.9610 - val_loss: 0.2026 - val_accuracy: 0.9318\n",
            "Epoch 5/10\n",
            "449/449 [==============================] - 46s 102ms/step - loss: 0.1206 - accuracy: 0.9690 - val_loss: 0.1875 - val_accuracy: 0.9355\n",
            "Epoch 6/10\n",
            "449/449 [==============================] - 46s 102ms/step - loss: 0.0911 - accuracy: 0.9779 - val_loss: 0.2159 - val_accuracy: 0.9337\n",
            "Epoch 7/10\n",
            "449/449 [==============================] - 46s 102ms/step - loss: 0.0738 - accuracy: 0.9819 - val_loss: 0.1943 - val_accuracy: 0.9353\n",
            "Epoch 8/10\n",
            "449/449 [==============================] - 46s 102ms/step - loss: 0.0661 - accuracy: 0.9835 - val_loss: 0.2104 - val_accuracy: 0.9321\n",
            "Epoch 9/10\n",
            "449/449 [==============================] - 46s 102ms/step - loss: 0.0530 - accuracy: 0.9863 - val_loss: 0.2128 - val_accuracy: 0.9322\n",
            "Epoch 10/10\n",
            "449/449 [==============================] - 46s 103ms/step - loss: 0.0436 - accuracy: 0.9888 - val_loss: 0.2322 - val_accuracy: 0.9323\n"
          ]
        },
        {
          "output_type": "execute_result",
          "data": {
            "text/plain": [
              "<keras.callbacks.History at 0x7f0bbf44f790>"
            ]
          },
          "metadata": {},
          "execution_count": 34
        }
      ]
    },
    {
      "cell_type": "code",
      "source": [
        "model3.evaluate(padded_test, y_test)"
      ],
      "metadata": {
        "colab": {
          "base_uri": "https://localhost:8080/"
        },
        "id": "kTsCcYGFzsY5",
        "outputId": "5407d8d6-a60a-43c7-c70b-4a5168ba4bde"
      },
      "execution_count": 35,
      "outputs": [
        {
          "output_type": "stream",
          "name": "stdout",
          "text": [
            "281/281 [==============================] - 4s 15ms/step - loss: 0.2287 - accuracy: 0.9347\n"
          ]
        },
        {
          "output_type": "execute_result",
          "data": {
            "text/plain": [
              "[0.2286677062511444, 0.9347254037857056]"
            ]
          },
          "metadata": {},
          "execution_count": 35
        }
      ]
    },
    {
      "cell_type": "code",
      "source": [
        "model4 = Sequential()\n",
        "model4.add(Embedding(total_words + 1, 100, input_length=42, weights = [embedding_matrix],trainable = False))\n",
        "model4.add(Bidirectional(LSTM(100, return_sequences=True)))\n",
        "model4.add(attention()) # receive 3D and output 3D\n",
        "model4.add(Dropout(0.5))\n",
        "model4.add(Dense(1, activation='sigmoid'))\n",
        "model4.compile(loss='binary_crossentropy', optimizer='adam', metrics=['accuracy']) \n",
        "model4.summary()"
      ],
      "metadata": {
        "colab": {
          "base_uri": "https://localhost:8080/"
        },
        "id": "lUzZwOad9fdz",
        "outputId": "12dc36e1-6008-4850-84c2-4d9d29686f6b"
      },
      "execution_count": 36,
      "outputs": [
        {
          "output_type": "stream",
          "name": "stdout",
          "text": [
            "Model: \"sequential_5\"\n",
            "_________________________________________________________________\n",
            " Layer (type)                Output Shape              Param #   \n",
            "=================================================================\n",
            " embedding_4 (Embedding)     (None, 42, 100)           1917600   \n",
            "                                                                 \n",
            " bidirectional_2 (Bidirectio  (None, 42, 200)          160800    \n",
            " nal)                                                            \n",
            "                                                                 \n",
            " attention_2 (attention)     (None, 42, 200)           242       \n",
            "                                                                 \n",
            " dropout_7 (Dropout)         (None, 42, 200)           0         \n",
            "                                                                 \n",
            " dense_4 (Dense)             (None, 42, 1)             201       \n",
            "                                                                 \n",
            "=================================================================\n",
            "Total params: 2,078,843\n",
            "Trainable params: 161,243\n",
            "Non-trainable params: 1,917,600\n",
            "_________________________________________________________________\n"
          ]
        }
      ]
    },
    {
      "cell_type": "code",
      "source": [
        "model4.fit(padded_train, y_train, batch_size = 64, validation_data=(padded_val, y_val), epochs = 10)"
      ],
      "metadata": {
        "colab": {
          "base_uri": "https://localhost:8080/"
        },
        "id": "w_MD_MSIdxcV",
        "outputId": "9cfc4b32-f30d-4e52-85d4-fdd871a3f798"
      },
      "execution_count": 37,
      "outputs": [
        {
          "output_type": "stream",
          "name": "stdout",
          "text": [
            "Epoch 1/10\n",
            "449/449 [==============================] - 49s 101ms/step - loss: 0.5540 - accuracy: 0.8044 - val_loss: 0.4914 - val_accuracy: 0.8029\n",
            "Epoch 2/10\n",
            "449/449 [==============================] - 45s 100ms/step - loss: 0.4268 - accuracy: 0.8353 - val_loss: 0.3572 - val_accuracy: 0.8703\n",
            "Epoch 3/10\n",
            "449/449 [==============================] - 45s 100ms/step - loss: 0.3683 - accuracy: 0.8623 - val_loss: 0.3340 - val_accuracy: 0.8668\n",
            "Epoch 4/10\n",
            "449/449 [==============================] - 45s 100ms/step - loss: 0.3100 - accuracy: 0.8795 - val_loss: 0.2927 - val_accuracy: 0.8863\n",
            "Epoch 5/10\n",
            "449/449 [==============================] - 45s 100ms/step - loss: 0.2704 - accuracy: 0.8964 - val_loss: 0.2603 - val_accuracy: 0.9002\n",
            "Epoch 6/10\n",
            "449/449 [==============================] - 45s 100ms/step - loss: 0.2465 - accuracy: 0.9045 - val_loss: 0.2350 - val_accuracy: 0.9052\n",
            "Epoch 7/10\n",
            "449/449 [==============================] - 45s 100ms/step - loss: 0.2309 - accuracy: 0.9095 - val_loss: 0.2235 - val_accuracy: 0.9085\n",
            "Epoch 8/10\n",
            "449/449 [==============================] - 45s 100ms/step - loss: 0.2068 - accuracy: 0.9197 - val_loss: 0.2121 - val_accuracy: 0.9154\n",
            "Epoch 9/10\n",
            "449/449 [==============================] - 45s 100ms/step - loss: 0.2079 - accuracy: 0.9237 - val_loss: 0.2178 - val_accuracy: 0.9176\n",
            "Epoch 10/10\n",
            "449/449 [==============================] - 45s 100ms/step - loss: 0.1996 - accuracy: 0.9243 - val_loss: 0.1990 - val_accuracy: 0.9193\n"
          ]
        },
        {
          "output_type": "execute_result",
          "data": {
            "text/plain": [
              "<keras.callbacks.History at 0x7f0bbc978b10>"
            ]
          },
          "metadata": {},
          "execution_count": 37
        }
      ]
    },
    {
      "cell_type": "code",
      "source": [
        "model4.evaluate(padded_test, y_test)"
      ],
      "metadata": {
        "colab": {
          "base_uri": "https://localhost:8080/"
        },
        "id": "HB3ZmDOMIW7b",
        "outputId": "3d255b2c-e6fc-4f69-803b-e77c8a525d9c"
      },
      "execution_count": 38,
      "outputs": [
        {
          "output_type": "stream",
          "name": "stdout",
          "text": [
            "281/281 [==============================] - 5s 18ms/step - loss: 0.1961 - accuracy: 0.9231\n"
          ]
        },
        {
          "output_type": "execute_result",
          "data": {
            "text/plain": [
              "[0.1961296647787094, 0.9231388568878174]"
            ]
          },
          "metadata": {},
          "execution_count": 38
        }
      ]
    }
  ]
}